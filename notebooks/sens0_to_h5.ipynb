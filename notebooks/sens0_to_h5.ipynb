{
 "cells": [
  {
   "cell_type": "markdown",
   "metadata": {},
   "source": [
    "# Example notebook to add benchmarks to a the hdf5 file\n",
    "\n",
    "It is possible to add the results one by one, or by finding all the sens0 and res files in a folder structure and then adding them all at once"
   ]
  },
  {
   "cell_type": "code",
   "execution_count": null,
   "metadata": {},
   "outputs": [],
   "source": [
    "import sys\n",
    "import os\n",
    "\n",
    "PROT_PATH = os.path.abspath(\"..\")\n",
    "\n",
    "if PROT_PATH not in sys.path:\n",
    "    sys.path.insert(0, PROT_PATH)\n",
    "\n",
    "import prot.benchmarks as benchmarks\n",
    "import glob"
   ]
  },
  {
   "cell_type": "code",
   "execution_count": 12,
   "metadata": {},
   "outputs": [],
   "source": [
    "sensfiles=glob.glob(r'C:\\Users\\dhouben\\Documents\\Benchmarks\\Pu\\**\\*_sens0.m', recursive=True)\n",
    "resfiles = glob.glob(r'C:\\Users\\dhouben\\Documents\\Benchmarks\\Pu\\**\\*_res.m', recursive=True)"
   ]
  },
  {
   "cell_type": "code",
   "execution_count": 17,
   "metadata": {},
   "outputs": [
    {
     "name": "stderr",
     "output_type": "stream",
     "text": [
      "SERPENT Serpent 2.2.1 found in C:\\Users\\dhouben\\Documents\\Benchmarks\\Pu\\PMF-035\\pmf035.ser_res.m, but version 2.1.31 is defined in settings\n",
      "  Attemping to read anyway. Please report strange behaviors/failures to developers.\n",
      "SERPENT Serpent 2.2.1 found in C:\\Users\\dhouben\\Documents\\Benchmarks\\Pu\\PMI-004-001\\pmi004-001s.i.ser_res.m, but version 2.1.31 is defined in settings\n",
      "  Attemping to read anyway. Please report strange behaviors/failures to developers.\n"
     ]
    }
   ],
   "source": [
    "for i in range(len(sensfiles)):\n",
    "    bench = benchmarks.Benchmark(r'C:\\Users\\dhouben\\Documents\\Benchmarks\\exp_results.xlsx', sensfiles[i], resfiles[i])\n",
    "    bench.to_hdf5(file_path=r'C:\\Users\\dhouben\\Documents\\data\\benchmarks.h5')"
   ]
  },
  {
   "cell_type": "code",
   "execution_count": null,
   "metadata": {},
   "outputs": [],
   "source": [
    "bmarks = benchmarks.BenchmarkSuite.from_hdf5(r'C:\\Users\\dhouben\\Documents\\data\\benchmarks.h5')\n",
    "bmarks.get_titles()"
   ]
  }
 ],
 "metadata": {
  "kernelspec": {
   "display_name": "Python3 (sandy-devel)",
   "language": "python",
   "name": "sandy-devel"
  },
  "language_info": {
   "codemirror_mode": {
    "name": "ipython",
    "version": 3
   },
   "file_extension": ".py",
   "mimetype": "text/x-python",
   "name": "python",
   "nbconvert_exporter": "python",
   "pygments_lexer": "ipython3",
   "version": "3.12.6"
  }
 },
 "nbformat": 4,
 "nbformat_minor": 2
}
