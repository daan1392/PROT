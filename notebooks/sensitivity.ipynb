{
 "cells": [
  {
   "cell_type": "code",
   "execution_count": 1,
   "metadata": {},
   "outputs": [],
   "source": [
    "import dapt.benchmarks as benchmarks\n",
    "from dapt.nuclear_data import Covariances\n",
    "import pandas as pd\n",
    "import numpy as np"
   ]
  },
  {
   "cell_type": "code",
   "execution_count": 2,
   "metadata": {},
   "outputs": [
    {
     "name": "stderr",
     "output_type": "stream",
     "text": [
      "SERPENT Serpent 2.2.1 found in C:\\Users\\dhouben\\Documents\\Benchmarks\\HEU\\HMF-001\\hmf001.i.serp_res.m, but version 2.1.31 is defined in settings\n",
      "  Attemping to read anyway. Please report strange behaviors/failures to developers.\n",
      "SERPENT Serpent 2.2.1 found in C:\\Users\\dhouben\\Documents\\Benchmarks\\HEU\\HMF-002\\hmf002-001.i.serp_res.m, but version 2.1.31 is defined in settings\n",
      "  Attemping to read anyway. Please report strange behaviors/failures to developers.\n"
     ]
    }
   ],
   "source": [
    "sens_path = r\"C:\\Users\\dhouben\\Documents\\Benchmarks\\HEU\\HMF-001\\hmf001.i.serp_sens0.m\"\n",
    "res_path = r\"C:\\Users\\dhouben\\Documents\\Benchmarks\\HEU\\HMF-001\\hmf001.i.serp_res.m\"\n",
    "\n",
    "hmf1 = benchmarks.Benchmark(sens_path, res_path)\n",
    "\n",
    "sens_path = r\"C:\\Users\\dhouben\\Documents\\Benchmarks\\HEU\\HMF-002\\hmf002-001.i.serp_sens0.m\"\n",
    "res_path = r\"C:\\Users\\dhouben\\Documents\\Benchmarks\\HEU\\HMF-002\\hmf002-001.i.serp_res.m\"\n",
    "\n",
    "hmf2 = benchmarks.Benchmark(sens_path, res_path)"
   ]
  },
  {
   "cell_type": "code",
   "execution_count": 3,
   "metadata": {},
   "outputs": [
    {
     "name": "stdout",
     "output_type": "stream",
     "text": [
      "Title: hmf001\n",
      " Bias=0.00063 +/- 0.00103\n"
     ]
    }
   ],
   "source": [
    "hmf1.print_summary()"
   ]
  },
  {
   "cell_type": "code",
   "execution_count": 4,
   "metadata": {},
   "outputs": [],
   "source": [
    "ZAIs = hmf1.S.index.get_level_values('ZAI').unique()"
   ]
  },
  {
   "cell_type": "code",
   "execution_count": 5,
   "metadata": {},
   "outputs": [
    {
     "name": "stdout",
     "output_type": "stream",
     "text": [
      "No covariance data found for 70140, returning empty df\n"
     ]
    }
   ],
   "source": [
    "covariances = {zai: Covariances.from_hdf5(r\"C:\\Users\\dhouben\\Documents\\DAPT\\notebooks\\nuclear_data\\jeff_33\\jeff_33.h5\", zai).fillna(0) for zai in ZAIs}"
   ]
  },
  {
   "cell_type": "code",
   "execution_count": 6,
   "metadata": {},
   "outputs": [],
   "source": [
    "bmarks = benchmarks.BenchmarkSuite([hmf1, hmf2])"
   ]
  },
  {
   "cell_type": "code",
   "execution_count": 7,
   "metadata": {},
   "outputs": [
    {
     "data": {
      "text/plain": [
       "hmf001        0.00063\n",
       "hmf002-001    0.00352\n",
       "dtype: float64"
      ]
     },
     "execution_count": 7,
     "metadata": {},
     "output_type": "execute_result"
    }
   ],
   "source": [
    "bmarks.K_prior['K_prior'] - bmarks.K_exp['K_exp']"
   ]
  },
  {
   "cell_type": "code",
   "execution_count": 8,
   "metadata": {},
   "outputs": [
    {
     "data": {
      "text/html": [
       "<div>\n",
       "<style scoped>\n",
       "    .dataframe tbody tr th:only-of-type {\n",
       "        vertical-align: middle;\n",
       "    }\n",
       "\n",
       "    .dataframe tbody tr th {\n",
       "        vertical-align: top;\n",
       "    }\n",
       "\n",
       "    .dataframe thead th {\n",
       "        text-align: right;\n",
       "    }\n",
       "</style>\n",
       "<table border=\"1\" class=\"dataframe\">\n",
       "  <thead>\n",
       "    <tr style=\"text-align: right;\">\n",
       "      <th></th>\n",
       "      <th></th>\n",
       "      <th></th>\n",
       "      <th>hmf001</th>\n",
       "      <th>hmf002-001</th>\n",
       "    </tr>\n",
       "    <tr>\n",
       "      <th>MT</th>\n",
       "      <th>E_min_eV</th>\n",
       "      <th>E_max_eV</th>\n",
       "      <th></th>\n",
       "      <th></th>\n",
       "    </tr>\n",
       "  </thead>\n",
       "  <tbody>\n",
       "    <tr>\n",
       "      <th rowspan=\"5\" valign=\"top\">2</th>\n",
       "      <th>1.000000e-05</th>\n",
       "      <th>1.000000e-04</th>\n",
       "      <td>0.000000</td>\n",
       "      <td>0.000000</td>\n",
       "    </tr>\n",
       "    <tr>\n",
       "      <th>1.000000e-04</th>\n",
       "      <th>5.000000e-04</th>\n",
       "      <td>0.000000</td>\n",
       "      <td>0.000000</td>\n",
       "    </tr>\n",
       "    <tr>\n",
       "      <th>5.000000e-04</th>\n",
       "      <th>7.500000e-04</th>\n",
       "      <td>0.000000</td>\n",
       "      <td>0.000000</td>\n",
       "    </tr>\n",
       "    <tr>\n",
       "      <th>7.500000e-04</th>\n",
       "      <th>1.000000e-03</th>\n",
       "      <td>0.000000</td>\n",
       "      <td>0.000000</td>\n",
       "    </tr>\n",
       "    <tr>\n",
       "      <th>1.000000e-03</th>\n",
       "      <th>1.200000e-03</th>\n",
       "      <td>0.000000</td>\n",
       "      <td>0.000000</td>\n",
       "    </tr>\n",
       "    <tr>\n",
       "      <th>...</th>\n",
       "      <th>...</th>\n",
       "      <th>...</th>\n",
       "      <td>...</td>\n",
       "      <td>...</td>\n",
       "    </tr>\n",
       "    <tr>\n",
       "      <th rowspan=\"5\" valign=\"top\">35018</th>\n",
       "      <th>1.284000e+07</th>\n",
       "      <th>1.384000e+07</th>\n",
       "      <td>0.000158</td>\n",
       "      <td>0.000106</td>\n",
       "    </tr>\n",
       "    <tr>\n",
       "      <th>1.384000e+07</th>\n",
       "      <th>1.455000e+07</th>\n",
       "      <td>0.000035</td>\n",
       "      <td>0.000052</td>\n",
       "    </tr>\n",
       "    <tr>\n",
       "      <th>1.455000e+07</th>\n",
       "      <th>1.568300e+07</th>\n",
       "      <td>0.000060</td>\n",
       "      <td>0.000020</td>\n",
       "    </tr>\n",
       "    <tr>\n",
       "      <th>1.568300e+07</th>\n",
       "      <th>1.733300e+07</th>\n",
       "      <td>0.000020</td>\n",
       "      <td>0.000023</td>\n",
       "    </tr>\n",
       "    <tr>\n",
       "      <th>1.733300e+07</th>\n",
       "      <th>2.000000e+07</th>\n",
       "      <td>-0.000016</td>\n",
       "      <td>0.000006</td>\n",
       "    </tr>\n",
       "  </tbody>\n",
       "</table>\n",
       "<p>1428 rows × 2 columns</p>\n",
       "</div>"
      ],
      "text/plain": [
       "                                   hmf001  hmf002-001\n",
       "MT    E_min_eV     E_max_eV                          \n",
       "2     1.000000e-05 1.000000e-04  0.000000    0.000000\n",
       "      1.000000e-04 5.000000e-04  0.000000    0.000000\n",
       "      5.000000e-04 7.500000e-04  0.000000    0.000000\n",
       "      7.500000e-04 1.000000e-03  0.000000    0.000000\n",
       "      1.000000e-03 1.200000e-03  0.000000    0.000000\n",
       "...                                   ...         ...\n",
       "35018 1.284000e+07 1.384000e+07  0.000158    0.000106\n",
       "      1.384000e+07 1.455000e+07  0.000035    0.000052\n",
       "      1.455000e+07 1.568300e+07  0.000060    0.000020\n",
       "      1.568300e+07 1.733300e+07  0.000020    0.000023\n",
       "      1.733300e+07 2.000000e+07 -0.000016    0.000006\n",
       "\n",
       "[1428 rows x 2 columns]"
      ]
     },
     "execution_count": 8,
     "metadata": {},
     "output_type": "execute_result"
    }
   ],
   "source": [
    "bmarks.S.loc[922350]"
   ]
  },
  {
   "cell_type": "code",
   "execution_count": 9,
   "metadata": {},
   "outputs": [],
   "source": [
    "covariances[70140] = pd.DataFrame(0, index=covariances[922380].index, columns=covariances[922380].columns)"
   ]
  },
  {
   "cell_type": "code",
   "execution_count": 10,
   "metadata": {},
   "outputs": [],
   "source": [
    "bmarks.calculate_V_prior(covariances)"
   ]
  },
  {
   "cell_type": "code",
   "execution_count": 11,
   "metadata": {},
   "outputs": [
    {
     "data": {
      "text/html": [
       "<div>\n",
       "<style scoped>\n",
       "    .dataframe tbody tr th:only-of-type {\n",
       "        vertical-align: middle;\n",
       "    }\n",
       "\n",
       "    .dataframe tbody tr th {\n",
       "        vertical-align: top;\n",
       "    }\n",
       "\n",
       "    .dataframe thead th {\n",
       "        text-align: right;\n",
       "    }\n",
       "</style>\n",
       "<table border=\"1\" class=\"dataframe\">\n",
       "  <thead>\n",
       "    <tr style=\"text-align: right;\">\n",
       "      <th></th>\n",
       "      <th></th>\n",
       "      <th></th>\n",
       "      <th></th>\n",
       "      <th>hmf001</th>\n",
       "      <th>hmf002-001</th>\n",
       "    </tr>\n",
       "    <tr>\n",
       "      <th>ZAI</th>\n",
       "      <th>MT</th>\n",
       "      <th>E_min_eV</th>\n",
       "      <th>E_max_eV</th>\n",
       "      <th></th>\n",
       "      <th></th>\n",
       "    </tr>\n",
       "  </thead>\n",
       "  <tbody>\n",
       "    <tr>\n",
       "      <th rowspan=\"5\" valign=\"top\">70140</th>\n",
       "      <th rowspan=\"5\" valign=\"top\">2</th>\n",
       "      <th>1.000000e-05</th>\n",
       "      <th>1.000000e-04</th>\n",
       "      <td>0.000000e+00</td>\n",
       "      <td>0.000000</td>\n",
       "    </tr>\n",
       "    <tr>\n",
       "      <th>1.000000e-04</th>\n",
       "      <th>5.000000e-04</th>\n",
       "      <td>0.000000e+00</td>\n",
       "      <td>0.000000</td>\n",
       "    </tr>\n",
       "    <tr>\n",
       "      <th>5.000000e-04</th>\n",
       "      <th>7.500000e-04</th>\n",
       "      <td>0.000000e+00</td>\n",
       "      <td>0.000000</td>\n",
       "    </tr>\n",
       "    <tr>\n",
       "      <th>7.500000e-04</th>\n",
       "      <th>1.000000e-03</th>\n",
       "      <td>0.000000e+00</td>\n",
       "      <td>0.000000</td>\n",
       "    </tr>\n",
       "    <tr>\n",
       "      <th>1.000000e-03</th>\n",
       "      <th>1.200000e-03</th>\n",
       "      <td>0.000000e+00</td>\n",
       "      <td>0.000000</td>\n",
       "    </tr>\n",
       "    <tr>\n",
       "      <th>...</th>\n",
       "      <th>...</th>\n",
       "      <th>...</th>\n",
       "      <th>...</th>\n",
       "      <td>...</td>\n",
       "      <td>...</td>\n",
       "    </tr>\n",
       "    <tr>\n",
       "      <th rowspan=\"5\" valign=\"top\">922380</th>\n",
       "      <th rowspan=\"5\" valign=\"top\">35018</th>\n",
       "      <th>1.284000e+07</th>\n",
       "      <th>1.384000e+07</th>\n",
       "      <td>1.286010e-06</td>\n",
       "      <td>0.000017</td>\n",
       "    </tr>\n",
       "    <tr>\n",
       "      <th>1.384000e+07</th>\n",
       "      <th>1.455000e+07</th>\n",
       "      <td>7.700210e-07</td>\n",
       "      <td>0.000000</td>\n",
       "    </tr>\n",
       "    <tr>\n",
       "      <th>1.455000e+07</th>\n",
       "      <th>1.568300e+07</th>\n",
       "      <td>0.000000e+00</td>\n",
       "      <td>0.000005</td>\n",
       "    </tr>\n",
       "    <tr>\n",
       "      <th>1.568300e+07</th>\n",
       "      <th>1.733300e+07</th>\n",
       "      <td>0.000000e+00</td>\n",
       "      <td>0.000003</td>\n",
       "    </tr>\n",
       "    <tr>\n",
       "      <th>1.733300e+07</th>\n",
       "      <th>2.000000e+07</th>\n",
       "      <td>1.804120e-06</td>\n",
       "      <td>0.000004</td>\n",
       "    </tr>\n",
       "  </tbody>\n",
       "</table>\n",
       "<p>7140 rows × 2 columns</p>\n",
       "</div>"
      ],
      "text/plain": [
       "                                              hmf001  hmf002-001\n",
       "ZAI    MT    E_min_eV     E_max_eV                              \n",
       "70140  2     1.000000e-05 1.000000e-04  0.000000e+00    0.000000\n",
       "             1.000000e-04 5.000000e-04  0.000000e+00    0.000000\n",
       "             5.000000e-04 7.500000e-04  0.000000e+00    0.000000\n",
       "             7.500000e-04 1.000000e-03  0.000000e+00    0.000000\n",
       "             1.000000e-03 1.200000e-03  0.000000e+00    0.000000\n",
       "...                                              ...         ...\n",
       "922380 35018 1.284000e+07 1.384000e+07  1.286010e-06    0.000017\n",
       "             1.384000e+07 1.455000e+07  7.700210e-07    0.000000\n",
       "             1.455000e+07 1.568300e+07  0.000000e+00    0.000005\n",
       "             1.568300e+07 1.733300e+07  0.000000e+00    0.000003\n",
       "             1.733300e+07 2.000000e+07  1.804120e-06    0.000004\n",
       "\n",
       "[7140 rows x 2 columns]"
      ]
     },
     "execution_count": 11,
     "metadata": {},
     "output_type": "execute_result"
    }
   ],
   "source": [
    "bmarks.S"
   ]
  },
  {
   "cell_type": "code",
   "execution_count": 12,
   "metadata": {},
   "outputs": [],
   "source": [
    "bmarks.remove_benchmark('hmf002-001')"
   ]
  },
  {
   "cell_type": "code",
   "execution_count": 13,
   "metadata": {},
   "outputs": [],
   "source": [
    "bmarks.add_benchmark(hmf2)"
   ]
  },
  {
   "cell_type": "code",
   "execution_count": 14,
   "metadata": {},
   "outputs": [
    {
     "data": {
      "text/plain": [
       "Index([70140, 80160, 922340, 922350, 922380], dtype='int64', name='ZAI')"
      ]
     },
     "execution_count": 14,
     "metadata": {},
     "output_type": "execute_result"
    }
   ],
   "source": [
    "bmarks.ZAIs"
   ]
  },
  {
   "cell_type": "code",
   "execution_count": 15,
   "metadata": {},
   "outputs": [
    {
     "name": "stdout",
     "output_type": "stream",
     "text": [
      "Title: hmf002-001\n",
      " Bias=0.00352 +/- 0.00301\n"
     ]
    }
   ],
   "source": [
    "hmf2.print_summary()"
   ]
  },
  {
   "cell_type": "code",
   "execution_count": 16,
   "metadata": {},
   "outputs": [
    {
     "data": {
      "text/html": [
       "<div>\n",
       "<style scoped>\n",
       "    .dataframe tbody tr th:only-of-type {\n",
       "        vertical-align: middle;\n",
       "    }\n",
       "\n",
       "    .dataframe tbody tr th {\n",
       "        vertical-align: top;\n",
       "    }\n",
       "\n",
       "    .dataframe thead th {\n",
       "        text-align: right;\n",
       "    }\n",
       "</style>\n",
       "<table border=\"1\" class=\"dataframe\">\n",
       "  <thead>\n",
       "    <tr style=\"text-align: right;\">\n",
       "      <th></th>\n",
       "      <th>hmf001</th>\n",
       "      <th>hmf002-001</th>\n",
       "    </tr>\n",
       "  </thead>\n",
       "  <tbody>\n",
       "    <tr>\n",
       "      <th>hmf001</th>\n",
       "      <td>31010.089044</td>\n",
       "      <td>-30575.884000</td>\n",
       "    </tr>\n",
       "    <tr>\n",
       "      <th>hmf002-001</th>\n",
       "      <td>-11316.675281</td>\n",
       "      <td>11468.155619</td>\n",
       "    </tr>\n",
       "  </tbody>\n",
       "</table>\n",
       "</div>"
      ],
      "text/plain": [
       "                  hmf001    hmf002-001\n",
       "hmf001      31010.089044 -30575.884000\n",
       "hmf002-001 -11316.675281  11468.155619"
      ]
     },
     "execution_count": 16,
     "metadata": {},
     "output_type": "execute_result"
    }
   ],
   "source": [
    "bmarks.calculate_C_inv()"
   ]
  },
  {
   "cell_type": "code",
   "execution_count": 17,
   "metadata": {},
   "outputs": [
    {
     "data": {
      "text/html": [
       "<div>\n",
       "<style scoped>\n",
       "    .dataframe tbody tr th:only-of-type {\n",
       "        vertical-align: middle;\n",
       "    }\n",
       "\n",
       "    .dataframe tbody tr th {\n",
       "        vertical-align: top;\n",
       "    }\n",
       "\n",
       "    .dataframe thead th {\n",
       "        text-align: right;\n",
       "    }\n",
       "</style>\n",
       "<table border=\"1\" class=\"dataframe\">\n",
       "  <thead>\n",
       "    <tr style=\"text-align: right;\">\n",
       "      <th></th>\n",
       "      <th>hmf001</th>\n",
       "      <th>hmf002-001</th>\n",
       "    </tr>\n",
       "  </thead>\n",
       "  <tbody>\n",
       "    <tr>\n",
       "      <th>hmf001</th>\n",
       "      <td>31010.089044</td>\n",
       "      <td>-30575.884000</td>\n",
       "    </tr>\n",
       "    <tr>\n",
       "      <th>hmf002-001</th>\n",
       "      <td>-11316.675281</td>\n",
       "      <td>11468.155619</td>\n",
       "    </tr>\n",
       "  </tbody>\n",
       "</table>\n",
       "</div>"
      ],
      "text/plain": [
       "                  hmf001    hmf002-001\n",
       "hmf001      31010.089044 -30575.884000\n",
       "hmf002-001 -11316.675281  11468.155619"
      ]
     },
     "execution_count": 17,
     "metadata": {},
     "output_type": "execute_result"
    }
   ],
   "source": [
    "bmarks.C_inv"
   ]
  },
  {
   "cell_type": "code",
   "execution_count": 18,
   "metadata": {},
   "outputs": [
    {
     "name": "stdout",
     "output_type": "stream",
     "text": [
      "GLS Procedure Summary:\n",
      "Prior X: 0.031\n",
      "Posterior X: 0.038\n",
      "Titles of Benchmarks Included: hmf001, hmf002-001\n",
      "Condition Number: 224.33\n"
     ]
    }
   ],
   "source": [
    "res = bmarks.gls(covariances)"
   ]
  },
  {
   "cell_type": "code",
   "execution_count": 19,
   "metadata": {},
   "outputs": [
    {
     "name": "stderr",
     "output_type": "stream",
     "text": [
      "C:\\Users\\dhouben\\Documents\\DAPT\\dapt\\benchmarks.py:91: FutureWarning: Starting with pandas version 3.0 all arguments of to_hdf except for the argument 'path_or_buf' will be keyword-only.\n",
      "  self.S.to_hdf(file_path, f'{self.title}/sensitivity', mode='a', format='table')\n"
     ]
    }
   ],
   "source": [
    "hmf2.to_hdf5()"
   ]
  },
  {
   "cell_type": "code",
   "execution_count": 20,
   "metadata": {},
   "outputs": [
    {
     "data": {
      "text/plain": [
       "'hmf002-001'"
      ]
     },
     "execution_count": 20,
     "metadata": {},
     "output_type": "execute_result"
    }
   ],
   "source": [
    "hmf2.title"
   ]
  },
  {
   "cell_type": "code",
   "execution_count": 21,
   "metadata": {},
   "outputs": [],
   "source": [
    "hmf001 = benchmarks.Benchmark.from_hdf5(file_path=r'C:\\Users\\dhouben\\Documents\\DAPT\\benchmarks.h5', title='hmf001')"
   ]
  },
  {
   "cell_type": "code",
   "execution_count": 22,
   "metadata": {},
   "outputs": [
    {
     "data": {
      "text/plain": [
       "Index([2, 4, 18, 102, 456, 35018], dtype='int64', name='MT')"
      ]
     },
     "execution_count": 22,
     "metadata": {},
     "output_type": "execute_result"
    }
   ],
   "source": [
    "hmf001.S.index.get_level_values('MT').unique()"
   ]
  },
  {
   "cell_type": "code",
   "execution_count": 23,
   "metadata": {},
   "outputs": [
    {
     "data": {
      "text/plain": [
       "<Axes: xlabel='E_min_eV,E_max_eV'>"
      ]
     },
     "execution_count": 23,
     "metadata": {},
     "output_type": "execute_result"
    },
    {
     "data": {
      "image/png": "[encoded data removed]",
      "text/plain": [
       "<Figure size 640x480 with 1 Axes>"
      ]
     },
     "metadata": {},
     "output_type": "display_data"
    }
   ],
   "source": [
    "hmf001.S.loc[(922350, 18)].plot(drawstyle='steps-pre', color='blue')"
   ]
  },
  {
   "cell_type": "code",
   "execution_count": 30,
   "metadata": {},
   "outputs": [],
   "source": [
    "import matplotlib.pyplot as plt\n",
    "import sandy"
   ]
  },
  {
   "cell_type": "code",
   "execution_count": null,
   "metadata": {},
   "outputs": [],
   "source": [
    "def lethargywidths(self):\n",
    "        \"\"\"Calculate lethargy widths for each energy bin.\"\"\"\n",
    "        energies = pd.IntervalIndex.from_arrays(\n",
    "            self.index.get_level_values('E_min_eV'),\n",
    "            self.index.get_level_values('E_max_eV')\n",
    "        )\n",
    "        return np.log(energies.right / energies.left)"
   ]
  },
  {
   "cell_type": "code",
   "execution_count": 40,
   "metadata": {},
   "outputs": [
    {
     "data": {
      "text/html": [
       "<div>\n",
       "<style scoped>\n",
       "    .dataframe tbody tr th:only-of-type {\n",
       "        vertical-align: middle;\n",
       "    }\n",
       "\n",
       "    .dataframe tbody tr th {\n",
       "        vertical-align: top;\n",
       "    }\n",
       "\n",
       "    .dataframe thead th {\n",
       "        text-align: right;\n",
       "    }\n",
       "</style>\n",
       "<table border=\"1\" class=\"dataframe\">\n",
       "  <thead>\n",
       "    <tr style=\"text-align: right;\">\n",
       "      <th></th>\n",
       "      <th></th>\n",
       "      <th></th>\n",
       "      <th></th>\n",
       "      <th>hmf001</th>\n",
       "    </tr>\n",
       "    <tr>\n",
       "      <th>ZAI</th>\n",
       "      <th>MT</th>\n",
       "      <th>E_min_eV</th>\n",
       "      <th>E_max_eV</th>\n",
       "      <th></th>\n",
       "    </tr>\n",
       "  </thead>\n",
       "  <tbody>\n",
       "    <tr>\n",
       "      <th rowspan=\"5\" valign=\"top\">70140</th>\n",
       "      <th rowspan=\"5\" valign=\"top\">2</th>\n",
       "      <th>1.00000e-05</th>\n",
       "      <th>1.00000e-04</th>\n",
       "      <td>0.00000e+00</td>\n",
       "    </tr>\n",
       "    <tr>\n",
       "      <th>1.00000e-04</th>\n",
       "      <th>5.00000e-04</th>\n",
       "      <td>0.00000e+00</td>\n",
       "    </tr>\n",
       "    <tr>\n",
       "      <th>5.00000e-04</th>\n",
       "      <th>7.50000e-04</th>\n",
       "      <td>0.00000e+00</td>\n",
       "    </tr>\n",
       "    <tr>\n",
       "      <th>7.50000e-04</th>\n",
       "      <th>1.00000e-03</th>\n",
       "      <td>0.00000e+00</td>\n",
       "    </tr>\n",
       "    <tr>\n",
       "      <th>1.00000e-03</th>\n",
       "      <th>1.20000e-03</th>\n",
       "      <td>0.00000e+00</td>\n",
       "    </tr>\n",
       "    <tr>\n",
       "      <th>...</th>\n",
       "      <th>...</th>\n",
       "      <th>...</th>\n",
       "      <th>...</th>\n",
       "      <td>...</td>\n",
       "    </tr>\n",
       "    <tr>\n",
       "      <th rowspan=\"5\" valign=\"top\">922380</th>\n",
       "      <th rowspan=\"5\" valign=\"top\">35018</th>\n",
       "      <th>1.28400e+07</th>\n",
       "      <th>1.38400e+07</th>\n",
       "      <td>1.28601e-06</td>\n",
       "    </tr>\n",
       "    <tr>\n",
       "      <th>1.38400e+07</th>\n",
       "      <th>1.45500e+07</th>\n",
       "      <td>7.70021e-07</td>\n",
       "    </tr>\n",
       "    <tr>\n",
       "      <th>1.45500e+07</th>\n",
       "      <th>1.56830e+07</th>\n",
       "      <td>0.00000e+00</td>\n",
       "    </tr>\n",
       "    <tr>\n",
       "      <th>1.56830e+07</th>\n",
       "      <th>1.73330e+07</th>\n",
       "      <td>0.00000e+00</td>\n",
       "    </tr>\n",
       "    <tr>\n",
       "      <th>1.73330e+07</th>\n",
       "      <th>2.00000e+07</th>\n",
       "      <td>1.80412e-06</td>\n",
       "    </tr>\n",
       "  </tbody>\n",
       "</table>\n",
       "<p>7140 rows × 1 columns</p>\n",
       "</div>"
      ],
      "text/plain": [
       "                                          hmf001\n",
       "ZAI    MT    E_min_eV    E_max_eV               \n",
       "70140  2     1.00000e-05 1.00000e-04 0.00000e+00\n",
       "             1.00000e-04 5.00000e-04 0.00000e+00\n",
       "             5.00000e-04 7.50000e-04 0.00000e+00\n",
       "             7.50000e-04 1.00000e-03 0.00000e+00\n",
       "             1.00000e-03 1.20000e-03 0.00000e+00\n",
       "...                                          ...\n",
       "922380 35018 1.28400e+07 1.38400e+07 1.28601e-06\n",
       "             1.38400e+07 1.45500e+07 7.70021e-07\n",
       "             1.45500e+07 1.56830e+07 0.00000e+00\n",
       "             1.56830e+07 1.73330e+07 0.00000e+00\n",
       "             1.73330e+07 2.00000e+07 1.80412e-06\n",
       "\n",
       "[7140 rows x 1 columns]"
      ]
     },
     "execution_count": 40,
     "metadata": {},
     "output_type": "execute_result"
    }
   ],
   "source": [
    "hmf001.S"
   ]
  },
  {
   "cell_type": "code",
   "execution_count": 37,
   "metadata": {},
   "outputs": [
    {
     "ename": "IndexError",
     "evalue": "single positional indexer is out-of-bounds",
     "output_type": "error",
     "traceback": [
      "\u001b[1;31m---------------------------------------------------------------------------\u001b[0m",
      "\u001b[1;31mIndexError\u001b[0m                                Traceback (most recent call last)",
      "Cell \u001b[1;32mIn[37], line 8\u001b[0m\n\u001b[0;32m      5\u001b[0m lethargyWidths \u001b[38;5;241m=\u001b[39m np\u001b[38;5;241m.\u001b[39mlog(energies\u001b[38;5;241m.\u001b[39mright \u001b[38;5;241m/\u001b[39m energies\u001b[38;5;241m.\u001b[39mleft)\n\u001b[0;32m      6\u001b[0m value \u001b[38;5;241m=\u001b[39m hmf001\u001b[38;5;241m.\u001b[39mS\u001b[38;5;241m.\u001b[39miloc[:, \u001b[38;5;241m0\u001b[39m] \u001b[38;5;241m/\u001b[39m lethargyWidths\n\u001b[1;32m----> 8\u001b[0m unc \u001b[38;5;241m=\u001b[39m \u001b[43mhmf001\u001b[49m\u001b[38;5;241;43m.\u001b[39;49m\u001b[43mS\u001b[49m\u001b[38;5;241;43m.\u001b[39;49m\u001b[43miloc\u001b[49m\u001b[43m[\u001b[49m\u001b[43m:\u001b[49m\u001b[43m,\u001b[49m\u001b[43m \u001b[49m\u001b[38;5;241;43m1\u001b[39;49m\u001b[43m]\u001b[49m \u001b[38;5;241m*\u001b[39m \u001b[38;5;28mabs\u001b[39m(value)\n\u001b[0;32m     10\u001b[0m plt\u001b[38;5;241m.\u001b[39mstep(energies[\u001b[38;5;241m1\u001b[39m:] \u001b[38;5;241m*\u001b[39m \u001b[38;5;241m1E6\u001b[39m, value, where\u001b[38;5;241m=\u001b[39m\u001b[38;5;124m'\u001b[39m\u001b[38;5;124mpre\u001b[39m\u001b[38;5;124m'\u001b[39m, linewidth\u001b[38;5;241m=\u001b[39m\u001b[38;5;241m1\u001b[39m, color\u001b[38;5;241m=\u001b[39m\u001b[38;5;124m'\u001b[39m\u001b[38;5;124mblue\u001b[39m\u001b[38;5;124m'\u001b[39m)\n\u001b[0;32m     11\u001b[0m plt\u001b[38;5;241m.\u001b[39mfill_between(energies[\u001b[38;5;241m1\u001b[39m:] \u001b[38;5;241m*\u001b[39m \u001b[38;5;241m1E6\u001b[39m, value\u001b[38;5;241m-\u001b[39munc, value\u001b[38;5;241m+\u001b[39munc, step\u001b[38;5;241m=\u001b[39m\u001b[38;5;124m'\u001b[39m\u001b[38;5;124mpre\u001b[39m\u001b[38;5;124m'\u001b[39m, alpha\u001b[38;5;241m=\u001b[39m\u001b[38;5;241m0.15\u001b[39m, color\u001b[38;5;241m=\u001b[39m\u001b[38;5;124m'\u001b[39m\u001b[38;5;124mblue\u001b[39m\u001b[38;5;124m'\u001b[39m)\n",
      "File \u001b[1;32m~\\AppData\\Local\\miniconda3\\envs\\sandy-devel\\Lib\\site-packages\\pandas\\core\\indexing.py:1184\u001b[0m, in \u001b[0;36m_LocationIndexer.__getitem__\u001b[1;34m(self, key)\u001b[0m\n\u001b[0;32m   1182\u001b[0m     \u001b[38;5;28;01mif\u001b[39;00m \u001b[38;5;28mself\u001b[39m\u001b[38;5;241m.\u001b[39m_is_scalar_access(key):\n\u001b[0;32m   1183\u001b[0m         \u001b[38;5;28;01mreturn\u001b[39;00m \u001b[38;5;28mself\u001b[39m\u001b[38;5;241m.\u001b[39mobj\u001b[38;5;241m.\u001b[39m_get_value(\u001b[38;5;241m*\u001b[39mkey, takeable\u001b[38;5;241m=\u001b[39m\u001b[38;5;28mself\u001b[39m\u001b[38;5;241m.\u001b[39m_takeable)\n\u001b[1;32m-> 1184\u001b[0m     \u001b[38;5;28;01mreturn\u001b[39;00m \u001b[38;5;28;43mself\u001b[39;49m\u001b[38;5;241;43m.\u001b[39;49m\u001b[43m_getitem_tuple\u001b[49m\u001b[43m(\u001b[49m\u001b[43mkey\u001b[49m\u001b[43m)\u001b[49m\n\u001b[0;32m   1185\u001b[0m \u001b[38;5;28;01melse\u001b[39;00m:\n\u001b[0;32m   1186\u001b[0m     \u001b[38;5;66;03m# we by definition only have the 0th axis\u001b[39;00m\n\u001b[0;32m   1187\u001b[0m     axis \u001b[38;5;241m=\u001b[39m \u001b[38;5;28mself\u001b[39m\u001b[38;5;241m.\u001b[39maxis \u001b[38;5;129;01mor\u001b[39;00m \u001b[38;5;241m0\u001b[39m\n",
      "File \u001b[1;32m~\\AppData\\Local\\miniconda3\\envs\\sandy-devel\\Lib\\site-packages\\pandas\\core\\indexing.py:1690\u001b[0m, in \u001b[0;36m_iLocIndexer._getitem_tuple\u001b[1;34m(self, tup)\u001b[0m\n\u001b[0;32m   1689\u001b[0m \u001b[38;5;28;01mdef\u001b[39;00m \u001b[38;5;21m_getitem_tuple\u001b[39m(\u001b[38;5;28mself\u001b[39m, tup: \u001b[38;5;28mtuple\u001b[39m):\n\u001b[1;32m-> 1690\u001b[0m     tup \u001b[38;5;241m=\u001b[39m \u001b[38;5;28;43mself\u001b[39;49m\u001b[38;5;241;43m.\u001b[39;49m\u001b[43m_validate_tuple_indexer\u001b[49m\u001b[43m(\u001b[49m\u001b[43mtup\u001b[49m\u001b[43m)\u001b[49m\n\u001b[0;32m   1691\u001b[0m     \u001b[38;5;28;01mwith\u001b[39;00m suppress(IndexingError):\n\u001b[0;32m   1692\u001b[0m         \u001b[38;5;28;01mreturn\u001b[39;00m \u001b[38;5;28mself\u001b[39m\u001b[38;5;241m.\u001b[39m_getitem_lowerdim(tup)\n",
      "File \u001b[1;32m~\\AppData\\Local\\miniconda3\\envs\\sandy-devel\\Lib\\site-packages\\pandas\\core\\indexing.py:966\u001b[0m, in \u001b[0;36m_LocationIndexer._validate_tuple_indexer\u001b[1;34m(self, key)\u001b[0m\n\u001b[0;32m    964\u001b[0m \u001b[38;5;28;01mfor\u001b[39;00m i, k \u001b[38;5;129;01min\u001b[39;00m \u001b[38;5;28menumerate\u001b[39m(key):\n\u001b[0;32m    965\u001b[0m     \u001b[38;5;28;01mtry\u001b[39;00m:\n\u001b[1;32m--> 966\u001b[0m         \u001b[38;5;28;43mself\u001b[39;49m\u001b[38;5;241;43m.\u001b[39;49m\u001b[43m_validate_key\u001b[49m\u001b[43m(\u001b[49m\u001b[43mk\u001b[49m\u001b[43m,\u001b[49m\u001b[43m \u001b[49m\u001b[43mi\u001b[49m\u001b[43m)\u001b[49m\n\u001b[0;32m    967\u001b[0m     \u001b[38;5;28;01mexcept\u001b[39;00m \u001b[38;5;167;01mValueError\u001b[39;00m \u001b[38;5;28;01mas\u001b[39;00m err:\n\u001b[0;32m    968\u001b[0m         \u001b[38;5;28;01mraise\u001b[39;00m \u001b[38;5;167;01mValueError\u001b[39;00m(\n\u001b[0;32m    969\u001b[0m             \u001b[38;5;124m\"\u001b[39m\u001b[38;5;124mLocation based indexing can only have \u001b[39m\u001b[38;5;124m\"\u001b[39m\n\u001b[0;32m    970\u001b[0m             \u001b[38;5;124mf\u001b[39m\u001b[38;5;124m\"\u001b[39m\u001b[38;5;124m[\u001b[39m\u001b[38;5;132;01m{\u001b[39;00m\u001b[38;5;28mself\u001b[39m\u001b[38;5;241m.\u001b[39m_valid_types\u001b[38;5;132;01m}\u001b[39;00m\u001b[38;5;124m] types\u001b[39m\u001b[38;5;124m\"\u001b[39m\n\u001b[0;32m    971\u001b[0m         ) \u001b[38;5;28;01mfrom\u001b[39;00m \u001b[38;5;21;01merr\u001b[39;00m\n",
      "File \u001b[1;32m~\\AppData\\Local\\miniconda3\\envs\\sandy-devel\\Lib\\site-packages\\pandas\\core\\indexing.py:1592\u001b[0m, in \u001b[0;36m_iLocIndexer._validate_key\u001b[1;34m(self, key, axis)\u001b[0m\n\u001b[0;32m   1590\u001b[0m     \u001b[38;5;28;01mreturn\u001b[39;00m\n\u001b[0;32m   1591\u001b[0m \u001b[38;5;28;01melif\u001b[39;00m is_integer(key):\n\u001b[1;32m-> 1592\u001b[0m     \u001b[38;5;28;43mself\u001b[39;49m\u001b[38;5;241;43m.\u001b[39;49m\u001b[43m_validate_integer\u001b[49m\u001b[43m(\u001b[49m\u001b[43mkey\u001b[49m\u001b[43m,\u001b[49m\u001b[43m \u001b[49m\u001b[43maxis\u001b[49m\u001b[43m)\u001b[49m\n\u001b[0;32m   1593\u001b[0m \u001b[38;5;28;01melif\u001b[39;00m \u001b[38;5;28misinstance\u001b[39m(key, \u001b[38;5;28mtuple\u001b[39m):\n\u001b[0;32m   1594\u001b[0m     \u001b[38;5;66;03m# a tuple should already have been caught by this point\u001b[39;00m\n\u001b[0;32m   1595\u001b[0m     \u001b[38;5;66;03m# so don't treat a tuple as a valid indexer\u001b[39;00m\n\u001b[0;32m   1596\u001b[0m     \u001b[38;5;28;01mraise\u001b[39;00m IndexingError(\u001b[38;5;124m\"\u001b[39m\u001b[38;5;124mToo many indexers\u001b[39m\u001b[38;5;124m\"\u001b[39m)\n",
      "File \u001b[1;32m~\\AppData\\Local\\miniconda3\\envs\\sandy-devel\\Lib\\site-packages\\pandas\\core\\indexing.py:1685\u001b[0m, in \u001b[0;36m_iLocIndexer._validate_integer\u001b[1;34m(self, key, axis)\u001b[0m\n\u001b[0;32m   1683\u001b[0m len_axis \u001b[38;5;241m=\u001b[39m \u001b[38;5;28mlen\u001b[39m(\u001b[38;5;28mself\u001b[39m\u001b[38;5;241m.\u001b[39mobj\u001b[38;5;241m.\u001b[39m_get_axis(axis))\n\u001b[0;32m   1684\u001b[0m \u001b[38;5;28;01mif\u001b[39;00m key \u001b[38;5;241m>\u001b[39m\u001b[38;5;241m=\u001b[39m len_axis \u001b[38;5;129;01mor\u001b[39;00m key \u001b[38;5;241m<\u001b[39m \u001b[38;5;241m-\u001b[39mlen_axis:\n\u001b[1;32m-> 1685\u001b[0m     \u001b[38;5;28;01mraise\u001b[39;00m \u001b[38;5;167;01mIndexError\u001b[39;00m(\u001b[38;5;124m\"\u001b[39m\u001b[38;5;124msingle positional indexer is out-of-bounds\u001b[39m\u001b[38;5;124m\"\u001b[39m)\n",
      "\u001b[1;31mIndexError\u001b[0m: single positional indexer is out-of-bounds"
     ]
    }
   ],
   "source": [
    "energies = pd.IntervalIndex.from_arrays(\n",
    "            hmf001.S.index.get_level_values('E_min_eV'),\n",
    "            hmf001.S.index.get_level_values('E_max_eV')\n",
    "        )\n",
    "lethargyWidths = np.log(energies.right / energies.left)\n",
    "value = hmf001.S.iloc[:, 0] / lethargyWidths\n",
    "        \n",
    "unc = hmf001.S.iloc[:, 1] * abs(value)\n",
    "\n",
    "plt.step(energies[1:] * 1E6, value, where='pre', linewidth=1, color='blue')\n",
    "plt.fill_between(energies[1:] * 1E6, value-unc, value+unc, step='pre', alpha=0.15, color='blue')"
   ]
  },
  {
   "cell_type": "code",
   "execution_count": null,
   "metadata": {},
   "outputs": [],
   "source": [
    "def plot_sensitivity(sens, zai, pert, color=None, label=None):\n",
    "    if zai in sens.zais:\n",
    "        ks = sens.sensitivities[\"keff\"]\n",
    "        kslice = ks[\n",
    "            sens.materials[\"total\"],  # index for sensitivity due to all materials\n",
    "            sens.zais[zai],  # index for sensitivity due to U238\n",
    "            sens.perts[pert],  # index for sensitivity due to fission xs\n",
    "        ]\n",
    "        \n",
    "        value = kslice[:, 0] / sens.lethargyWidths\n",
    "        \n",
    "        unc = kslice[:, 1] * abs(value)\n",
    "        \n",
    "        plt.step(sens.energies[1:] * 1E6, value, where='pre', linewidth=1, color=color, label=f'{label} - {sandy.zam2latex(zai)} - {pert}')\n",
    "        plt.fill_between(sens.energies[1:] * 1E6, value-unc, value+unc, step='pre', alpha=0.15, color=color)\n",
    "    \n",
    "        plt.xscale('log')\n",
    "        plt.legend()\n",
    "        plt.xlabel('Energy [MeV]')\n",
    "        plt.ylabel('Sensitivitiy to keff per unit Lethargy')\n",
    "        #plt.grid(which='both')\n",
    "        plt.title('Sensitivity to keff')\n",
    "        #plt.gca().xaxis.set_minor_locator(LogLocator(base=10.0, subs=\"auto\", numticks=10))\n",
    "        #plt.gca().xaxis.set_minor_formatter(plt.NullFormatter())  # Optional: hide minor tick\n",
    "        plt.grid(axis='y', which='major', linestyle='-', color='gray', linewidth=0.5)\n",
    "\n",
    "        plt.grid(axis='x', which='major', linestyle='-', color='gray', linewidth=0.5)\n",
    "        plt.grid(axis='x', which='minor', linestyle=':', color='gray', linewidth=0.5)\n",
    "        \n",
    "        plt.minorticks_on()\n",
    "    return None"
   ]
  },
  {
   "cell_type": "code",
   "execution_count": 28,
   "metadata": {},
   "outputs": [
    {
     "data": {
      "text/html": [
       "<div>\n",
       "<style scoped>\n",
       "    .dataframe tbody tr th:only-of-type {\n",
       "        vertical-align: middle;\n",
       "    }\n",
       "\n",
       "    .dataframe tbody tr th {\n",
       "        vertical-align: top;\n",
       "    }\n",
       "\n",
       "    .dataframe thead th {\n",
       "        text-align: right;\n",
       "    }\n",
       "</style>\n",
       "<table border=\"1\" class=\"dataframe\">\n",
       "  <thead>\n",
       "    <tr style=\"text-align: right;\">\n",
       "      <th></th>\n",
       "      <th></th>\n",
       "      <th></th>\n",
       "      <th></th>\n",
       "      <th>hmf001</th>\n",
       "      <th>hmf001_std</th>\n",
       "    </tr>\n",
       "    <tr>\n",
       "      <th>ZAI</th>\n",
       "      <th>MT</th>\n",
       "      <th>E_min_eV</th>\n",
       "      <th>E_max_eV</th>\n",
       "      <th></th>\n",
       "      <th></th>\n",
       "    </tr>\n",
       "  </thead>\n",
       "  <tbody>\n",
       "    <tr>\n",
       "      <th rowspan=\"5\" valign=\"top\">70140</th>\n",
       "      <th rowspan=\"5\" valign=\"top\">2</th>\n",
       "      <th>1.00000e-05</th>\n",
       "      <th>1.00000e-04</th>\n",
       "      <td>0.00000e+00</td>\n",
       "      <td>0.00000e+00</td>\n",
       "    </tr>\n",
       "    <tr>\n",
       "      <th>1.00000e-04</th>\n",
       "      <th>5.00000e-04</th>\n",
       "      <td>0.00000e+00</td>\n",
       "      <td>0.00000e+00</td>\n",
       "    </tr>\n",
       "    <tr>\n",
       "      <th>5.00000e-04</th>\n",
       "      <th>7.50000e-04</th>\n",
       "      <td>0.00000e+00</td>\n",
       "      <td>0.00000e+00</td>\n",
       "    </tr>\n",
       "    <tr>\n",
       "      <th>7.50000e-04</th>\n",
       "      <th>1.00000e-03</th>\n",
       "      <td>0.00000e+00</td>\n",
       "      <td>0.00000e+00</td>\n",
       "    </tr>\n",
       "    <tr>\n",
       "      <th>1.00000e-03</th>\n",
       "      <th>1.20000e-03</th>\n",
       "      <td>0.00000e+00</td>\n",
       "      <td>0.00000e+00</td>\n",
       "    </tr>\n",
       "    <tr>\n",
       "      <th>...</th>\n",
       "      <th>...</th>\n",
       "      <th>...</th>\n",
       "      <th>...</th>\n",
       "      <td>...</td>\n",
       "      <td>...</td>\n",
       "    </tr>\n",
       "    <tr>\n",
       "      <th rowspan=\"5\" valign=\"top\">922380</th>\n",
       "      <th rowspan=\"5\" valign=\"top\">35018</th>\n",
       "      <th>1.28400e+07</th>\n",
       "      <th>1.38400e+07</th>\n",
       "      <td>1.28601e-06</td>\n",
       "      <td>1.00000e+00</td>\n",
       "    </tr>\n",
       "    <tr>\n",
       "      <th>1.38400e+07</th>\n",
       "      <th>1.45500e+07</th>\n",
       "      <td>7.70021e-07</td>\n",
       "      <td>1.00000e+00</td>\n",
       "    </tr>\n",
       "    <tr>\n",
       "      <th>1.45500e+07</th>\n",
       "      <th>1.56830e+07</th>\n",
       "      <td>0.00000e+00</td>\n",
       "      <td>0.00000e+00</td>\n",
       "    </tr>\n",
       "    <tr>\n",
       "      <th>1.56830e+07</th>\n",
       "      <th>1.73330e+07</th>\n",
       "      <td>0.00000e+00</td>\n",
       "      <td>0.00000e+00</td>\n",
       "    </tr>\n",
       "    <tr>\n",
       "      <th>1.73330e+07</th>\n",
       "      <th>2.00000e+07</th>\n",
       "      <td>1.80412e-06</td>\n",
       "      <td>1.00000e+00</td>\n",
       "    </tr>\n",
       "  </tbody>\n",
       "</table>\n",
       "<p>7140 rows × 2 columns</p>\n",
       "</div>"
      ],
      "text/plain": [
       "                                          hmf001  hmf001_std\n",
       "ZAI    MT    E_min_eV    E_max_eV                           \n",
       "70140  2     1.00000e-05 1.00000e-04 0.00000e+00 0.00000e+00\n",
       "             1.00000e-04 5.00000e-04 0.00000e+00 0.00000e+00\n",
       "             5.00000e-04 7.50000e-04 0.00000e+00 0.00000e+00\n",
       "             7.50000e-04 1.00000e-03 0.00000e+00 0.00000e+00\n",
       "             1.00000e-03 1.20000e-03 0.00000e+00 0.00000e+00\n",
       "...                                          ...         ...\n",
       "922380 35018 1.28400e+07 1.38400e+07 1.28601e-06 1.00000e+00\n",
       "             1.38400e+07 1.45500e+07 7.70021e-07 1.00000e+00\n",
       "             1.45500e+07 1.56830e+07 0.00000e+00 0.00000e+00\n",
       "             1.56830e+07 1.73330e+07 0.00000e+00 0.00000e+00\n",
       "             1.73330e+07 2.00000e+07 1.80412e-06 1.00000e+00\n",
       "\n",
       "[7140 rows x 2 columns]"
      ]
     },
     "execution_count": 28,
     "metadata": {},
     "output_type": "execute_result"
    }
   ],
   "source": [
    "hmf1.S"
   ]
  },
  {
   "cell_type": "code",
   "execution_count": 25,
   "metadata": {},
   "outputs": [],
   "source": [
    "import sandy"
   ]
  },
  {
   "cell_type": "code",
   "execution_count": 26,
   "metadata": {},
   "outputs": [
    {
     "name": "stdout",
     "output_type": "stream",
     "text": [
      "\n",
      "    Convert ZAM to string such with symbol and mass, such as `922350` to\n",
      "    `\"U235\"` or `952421` to `\"Am242m\"`.\n",
      "\n",
      "    Parameters\n",
      "    ----------\n",
      "    zam : `int`\n",
      "        nuclide ZAM indicator\n",
      "    atomic_number : `bool`, optional, default is `False`\n",
      "        flag to include the atomic number in the nuclide name\n",
      "    sep : `str`, optional, default is `''`\n",
      "        separation character(s) to place between the atomic number\n",
      "        (if present), the element ID, and the mass number.\n",
      "\n",
      "    Returns\n",
      "    -------\n",
      "    `string`\n",
      "        nuclide expressed with symbol and mass\n",
      "\n",
      "    Examples\n",
      "    --------\n",
      "    >>> zam2nuclide(922350)\n",
      "    'U235'\n",
      "\n",
      "    >>> zam2nuclide(922350, atomic_number=True)\n",
      "    '92U235'\n",
      "\n",
      "    >>> zam2nuclide(922350, atomic_number=True, sep=\"-\")\n",
      "    '92-U-235'\n",
      "\n",
      "    >>> zam2nuclide(922350, atomic_number=False, sep=\"-\")\n",
      "    'U-235'\n",
      "\n",
      "    >>> zam2nuclide(952420)\n",
      "    'Am242'\n",
      "\n",
      "    >>> zam2nuclide(952421)\n",
      "    'Am242m'\n",
      "\n",
      "    >>> zam2nuclide(952421, atomic_number=True, sep=\"_\")\n",
      "    '95_Am_242m'\n",
      "\n",
      "    >>> zam2nuclide(952422)\n",
      "    'Am242n'\n",
      "    \n"
     ]
    }
   ],
   "source": [
    "print(sandy.zam.zam2nuclide.__doc__)"
   ]
  },
  {
   "cell_type": "code",
   "execution_count": 27,
   "metadata": {},
   "outputs": [
    {
     "data": {
      "text/plain": [
       "'92-u-235mg.jeff4t4'"
      ]
     },
     "execution_count": 27,
     "metadata": {},
     "output_type": "execute_result"
    }
   ],
   "source": [
    "sandy.zam.zam2nuclide(922351, atomic_number=True, sep='-').lower() + \"g.jeff4t4\""
   ]
  }
 ],
 "metadata": {
  "kernelspec": {
   "display_name": "Python3 (sandy-devel)",
   "language": "python",
   "name": "sandy-devel"
  },
  "language_info": {
   "codemirror_mode": {
    "name": "ipython",
    "version": 3
   },
   "file_extension": ".py",
   "mimetype": "text/x-python",
   "name": "python",
   "nbconvert_exporter": "python",
   "pygments_lexer": "ipython3",
   "version": "3.12.6"
  }
 },
 "nbformat": 4,
 "nbformat_minor": 2
}
